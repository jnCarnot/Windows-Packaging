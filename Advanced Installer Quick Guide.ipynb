{
 "cells": [
  {
   "cell_type": "markdown",
   "id": "f2c7f268-4c3d-4db8-bad3-b0742d616549",
   "metadata": {},
   "source": [
    "# **Advanced Installer Quick Guide**"
   ]
  },
  {
   "cell_type": "markdown",
   "id": "e9cb3ea1-af08-4d40-b4ac-964b04a10d83",
   "metadata": {},
   "source": [
    "### **1. Install Advanced Installer**\n",
    "\n",
    "You may download advanced installer here https://www.advancedinstaller.com/download.html"
   ]
  },
  {
   "cell_type": "markdown",
   "id": "80702f6d-4090-4f22-aa45-80766757f4c0",
   "metadata": {},
   "source": [
    "### **2. Start a project**\n",
    "\n",
    "After you opened Advanced Installer, you will see the following screen,\n",
    "\n",
    "![](statics/AI_home.png)\n",
    "\n",
    "In this demonstration, we will be using **enterprise** option, make sure you change the **language** option on the right hand side also before initiating the project."
   ]
  },
  {
   "cell_type": "markdown",
   "id": "42472ecf-eaeb-4201-bc57-6f39be2d8f81",
   "metadata": {},
   "source": [
    "### **3. Creating the installer**\n",
    "\n",
    "#### **3.1 Project Details**\n",
    "\n",
    "As soon as you created a project, you should be directed to product details tab, you can change the product name, version, publisher and oter necessary settings.\n",
    "\n",
    "#### **3.2 Add the required files for installation**\n",
    "\n",
    "1. Navigate to the **Files & Folders** tab \n",
    "2. On top bars click **Add Files** and add the necessary files for installation (in this project, we will use an empty exe file just for demonstration)\n",
    "\n",
    "![](statics/file_folder.png)\n"
   ]
  },
  {
   "cell_type": "markdown",
   "id": "40cd8646-3dd8-4876-943c-5af33a84f722",
   "metadata": {},
   "source": [
    "#### **3.3 Shortcuts**\n",
    "\n",
    "You can create shortcuts for the app for easier access once the app is installed.\n",
    "\n",
    "To create shortcut you may simply right click on testapp.exe -> new shortcut to -> installed file\n",
    "\n",
    "![](statics/shortcut.png)\n",
    "\n",
    "After you set up the configurations for the app (eg. name), you will be able to see the shortcut created in the **Shortcuts** tab \n",
    "\n",
    "![](statics/shortcuts.png)"
   ]
  },
  {
   "cell_type": "markdown",
   "id": "9b78067e-a0f0-46c9-84b0-2e959ec4642b",
   "metadata": {},
   "source": [
    "#### **3.4 Regristry**"
   ]
  },
  {
   "cell_type": "markdown",
   "id": "5993d428-e50b-4045-acbf-3a83752baf82",
   "metadata": {},
   "source": [
    "#### **3.5 Dialouge**\n",
    "\n",
    "You can set up the dialouge in the dialouge tab\n",
    "\n",
    "![](statics/dialouge.png)\n",
    "\n",
    "To add new dialouge messages, you can use the **Add Dialouge** function on the top ribbon, there are several built-in dialouge ready for use, alternatively you can create your own dialouges as well.\n",
    "\n",
    "Tips: You can change the theme on the **Theme** tab on the right bar for customizable apearance."
   ]
  },
  {
   "cell_type": "markdown",
   "id": "5e4ab239-d4fe-41cf-8541-340e27394b4b",
   "metadata": {},
   "source": [
    "#### **3.6 Updater**\n",
    "\n",
    "A lot of time the applications may require updates, you can set a updater for your application in **Updater** tab on the right menu. Tick the box **Checks for updates using Advanced Installer**\n",
    "\n",
    "![](statics/updater_page.png)\n",
    "\n",
    "There are a lot of configurations you may set to serve different purposes, the default one will only update when users do it manually, which is what this demonstration will stick to.\n",
    "\n",
    "The most important settings to change is the **Updates configuration file URL**, you should change the URL to the endpoint that you will be storing your update configuration files (updates.txt), here we use *file://C:\\Users\\carnot\\Desktop\\Advanced_installer_test\\Updates\\updates.txt* as example as we are deploying locally. But please note that you should replace the URL with the endpoint serving the resources, like a website etc.\n",
    "\n",
    "You may wonder where the file *updates.txt* comes from, which we will explain in the later section.\n",
    "\n",
    "\n",
    "\n",
    "You will be able to see the updater in **Files and Folders** tab on the left menu\n",
    "\n",
    "![](statics/updater_ff.png)\n",
    "\n",
    "Again, you can create a shortcut for the updater.exe with similar procedures mentioned in section **3.3 Shortcuts**, this allow user to be able to check for updates easily with just one click."
   ]
  },
  {
   "cell_type": "markdown",
   "id": "39f3d07f-ea54-4748-b05f-777941519c47",
   "metadata": {},
   "source": [
    "#### **3.7 Build the installer**\n",
    "\n",
    "After you finish all the configurations and settings for the installer, you can build the installer by hitting the build button on the top left corner (the yellow brick icon next to save button)\n",
    "\n",
    "![](statics/build.png)\n",
    "\n",
    "Save the aip file to the desire directory and name the project. You should be able to see these files <br>\n",
    "\n",
    "\n",
    "\n",
    "![](statics/testappfiles.png)"
   ]
  },
  {
   "cell_type": "markdown",
   "id": "7fd8f295-087a-4f8a-bd4f-f4b0b6f0d996",
   "metadata": {},
   "source": [
    "### **4. Use the installer**"
   ]
  },
  {
   "cell_type": "markdown",
   "id": "d6f132b0-f96d-4df5-8517-81561d27e015",
   "metadata": {},
   "source": [
    "Inside the TestApp-SetupFiles, you should be able to see **TestApp.msi**, to initiate the installation process, simply double click on the msi and the installation process would begin."
   ]
  },
  {
   "cell_type": "markdown",
   "id": "286640e4-382e-48f5-8800-46ceac2ca430",
   "metadata": {},
   "source": [
    "### **5. Making updates**"
   ]
  },
  {
   "cell_type": "markdown",
   "id": "43b97fbc-a698-40cd-9528-f41a1ae250da",
   "metadata": {},
   "source": [
    "https://www.advancedinstaller.com/user-guide/tutorial-updater.html"
   ]
  },
  {
   "cell_type": "markdown",
   "id": "87685cb7-92ff-41d6-9dd4-05bd8f92ca55",
   "metadata": {},
   "source": [
    "To simulate a new update, we need to create a new version of installer. Here navigate back to the **Products detail** tabs and change the version to 2.0.0. After you have done making all the necessary changes for this new installer (eg. new files, change exe codes etc.), go to top left corner and hit **save as**. You will see a screen popping up, select **generate new** if you see the window.\n",
    "\n",
    "![](statics/update_generatenew.png)\n",
    "\n",
    "Here I named the aip to TestAppv2. Now build the project, after building, you should be able to see **TestAppv2-SetupFiles** in the directory. Inside the directory you will be able to find **TestAppv2.msi**. This will be the new installer for the new update.\n",
    "\n",
    "After you done all that, open a new project, select **Updates** and choose **Updates Configuration**"
   ]
  },
  {
   "cell_type": "markdown",
   "id": "4bf7e21b-d71d-4efd-9994-ddf8755631d0",
   "metadata": {},
   "source": [
    "![](statics/updateconfig.png)"
   ]
  },
  {
   "cell_type": "markdown",
   "id": "9f5c081d-0141-4db1-86cf-3c6860b664f4",
   "metadata": {},
   "source": [
    "After creating project, on the top left corner, hit **New Update** and select the TestAppv2.msi file\n",
    "\n",
    "![](statics/newupdatefile.png)\n",
    "\n",
    "In the properties section, change the Main URL to the endpoint that stores the *TestAppv2.msi* file, here we use *file://C:\\Users\\carnot\\Desktop\\Advanced_installer_test\\Updates\\TestAppv2.msi* as example.\n",
    "\n",
    "![](statics/updateproperties.png)\n",
    "\n",
    "You can change other properties such as Release Note etc."
   ]
  },
  {
   "cell_type": "markdown",
   "id": "ddd1b56e-704a-4797-b6eb-798f74dd7f44",
   "metadata": {},
   "source": [
    "After you are done with the configurations, save the file as **updates.txt**, this is essentially the **updates.txt** file mentioned in section 3.6 where you will upload this txt file to the endpoint. Hit **build** after doing all the mentioned process."
   ]
  },
  {
   "cell_type": "markdown",
   "id": "4ead8801-ddca-40b0-a9ec-be4e727e7473",
   "metadata": {},
   "source": [
    "#### **5.1 Check for updates**\n",
    "\n",
    "\n",
    "Since we have created a shortcut in the previous sections, you will be able to find the **Check for Update** shortcut after opening the window menu. Click on it.\n",
    "\n",
    "![](statics/shortcut_.png)\n",
    "\n",
    "If everything is running properly, you will be able to see the release notes you have put in.\n",
    "\n",
    "![](statics/updatesummary.png)"
   ]
  },
  {
   "cell_type": "markdown",
   "id": "36f31ec0-5d80-4138-ad07-a8d2f10e0ea3",
   "metadata": {},
   "source": [
    "### **Reference folder structure**\n",
    "\n",
    "\n",
    "![](statics/advancedinstaller_files.png)\n",
    "\n",
    "\n",
    "\n",
    "Below is the *Updates* folder referenced in the updates URL sections.\n",
    "\n",
    "![](statics/updatesfolder.png)"
   ]
  }
 ],
 "metadata": {
  "kernelspec": {
   "display_name": "Python 3",
   "language": "python",
   "name": "python3"
  },
  "language_info": {
   "name": ""
  }
 },
 "nbformat": 4,
 "nbformat_minor": 5
}
